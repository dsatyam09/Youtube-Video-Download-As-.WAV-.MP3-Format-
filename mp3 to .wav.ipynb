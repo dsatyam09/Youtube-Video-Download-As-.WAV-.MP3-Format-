{
 "cells": [
  {
   "attachments": {},
   "cell_type": "markdown",
   "id": "50581153",
   "metadata": {},
   "source": [
    "# Code to download Youtube Video to mp3 /  wav (direct)"
   ]
  },
  {
   "cell_type": "code",
   "execution_count": 1,
   "id": "1765f396",
   "metadata": {},
   "outputs": [],
   "source": [
    "# importing packages\n",
    "from pytube import YouTube\n",
    "import os"
   ]
  },
  {
   "cell_type": "code",
   "execution_count": 2,
   "id": "1982adf6",
   "metadata": {},
   "outputs": [
    {
     "name": "stdout",
     "output_type": "stream",
     "text": [
      "Enter the URL of the video you want to download: \n",
      ">> https://www.youtube.com/watch?v=4oXgCJf4hf8\n",
      "Enter the destination (leave blank for current directory)\n",
      ">> \n",
      "Silence has been successfully downloaded.\n"
     ]
    }
   ],
   "source": [
    "# url input from user\n",
    "yt = YouTube(\n",
    "str(input(\"Enter the URL of the video you want to download: \\n>> \")))\n",
    "\n",
    "# extract only audio\n",
    "video = yt.streams.filter(only_audio=True).first()\n",
    "\n",
    "# check for destination to save file\n",
    "print(\"Enter the destination (leave blank for current directory)\")\n",
    "destination = str(input(\">> \")) or '.'\n",
    "\n",
    "# download the file\n",
    "out_file = video.download(output_path=destination)\n",
    "\n",
    "# save the file\n",
    "base, ext = os.path.splitext(out_file)\n",
    "new_file = base + '.mp3'\n",
    "os.rename(out_file, new_file)\n",
    "\n",
    "# result of success\n",
    "print(yt.title + \" has been successfully downloaded.\")"
   ]
  },
  {
   "attachments": {},
   "cell_type": "markdown",
   "id": "114720d4",
   "metadata": {},
   "source": [
    "# Code to convert .mp3 to .wav"
   ]
  },
  {
   "attachments": {},
   "cell_type": "markdown",
   "id": "801a1eaf",
   "metadata": {},
   "source": [
    "* Note it might be a case where you get 'file not found' error  so the solution is \n",
    "     1.  pip install ffmpeg \n",
    "     2.  https://www.youtube.com/watch?v=IECI72XEox0         ( Setting ffmpeg directly to your system will definately solve the 'file not found' issue.)"
   ]
  },
  {
   "cell_type": "code",
   "execution_count": 3,
   "id": "3b95cb13",
   "metadata": {},
   "outputs": [],
   "source": [
    "import ffmpeg\n",
    "from pydub import AudioSegment"
   ]
  },
  {
   "cell_type": "code",
   "execution_count": 4,
   "id": "2098041d",
   "metadata": {},
   "outputs": [],
   "source": [
    "from pydub import AudioSegment\n",
    "\n",
    "def convert_mp3_to_wav(mp3_path, wav_path):\n",
    "    # Load the MP3 file\n",
    "    audio = AudioSegment.from_mp3(mp3_path)\n",
    "\n",
    "    # Export the audio as WAV file\n",
    "    audio.export(wav_path, format='wav')\n"
   ]
  },
  {
   "cell_type": "code",
   "execution_count": 5,
   "id": "b04760ba",
   "metadata": {},
   "outputs": [],
   "source": [
    "# Example usage\n",
    "mp3_path = 'Silence.mp3'\n",
    "wav_path = 'Final.wav'\n",
    "convert_mp3_to_wav(mp3_path, wav_path)\n"
   ]
  },
  {
   "attachments": {},
   "cell_type": "markdown",
   "id": "25ef3c93",
   "metadata": {},
   "source": [
    "# Code to convert any sample rate to 8000hz."
   ]
  },
  {
   "cell_type": "code",
   "execution_count": 6,
   "id": "b2da9d52",
   "metadata": {},
   "outputs": [],
   "source": [
    "import soundfile as sf\n",
    "from scipy import signal\n",
    "import numpy\n"
   ]
  },
  {
   "cell_type": "code",
   "execution_count": 7,
   "id": "ef73e697",
   "metadata": {},
   "outputs": [],
   "source": [
    "# Specify the input and output filenames\n",
    "input_file = 'Final.wav'\n",
    "output_file = 'output.wav'"
   ]
  },
  {
   "cell_type": "code",
   "execution_count": 8,
   "id": "9e71d241",
   "metadata": {},
   "outputs": [
    {
     "name": "stdout",
     "output_type": "stream",
     "text": [
      "Resampling complete. Output file: output.wav\n"
     ]
    }
   ],
   "source": [
    "# Load the input audio file\n",
    "data, samplerate = sf.read(input_file)\n",
    "\n",
    "# Resample the audio data to the desired sample rate (8000 Hz)\n",
    "resampled_data = signal.resample(data, int(len(data) * (8000 / samplerate)))\n",
    "\n",
    "# Save the resampled data to the output file\n",
    "sf.write(output_file, resampled_data, 8000, 'PCM_16')\n",
    "\n",
    "print(\"Resampling complete. Output file:\", output_file)"
   ]
  },
  {
   "attachments": {},
   "cell_type": "markdown",
   "id": "1d6168a3",
   "metadata": {},
   "source": [
    "# Code to split the .wav file in 50 s  duration."
   ]
  },
  {
   "cell_type": "code",
   "execution_count": 9,
   "id": "ec48e76a",
   "metadata": {},
   "outputs": [],
   "source": [
    "import wave\n",
    "import math\n",
    "import os\n",
    "\n",
    "def split_wav(input_file, output_folder, duration):\n",
    "    # Create the output folder if it doesn't exist\n",
    "    if not os.path.exists(output_folder):\n",
    "        os.makedirs(output_folder)\n",
    "\n",
    "    # Open the input WAV file\n",
    "    with wave.open(input_file, 'rb') as wav_file:\n",
    "        # Get the parameters of the input WAV file\n",
    "        params = wav_file.getparams()\n",
    "\n",
    "        # Calculate the number of frames for the desired duration\n",
    "        frames_per_part = math.ceil(duration * params.framerate)\n",
    "\n",
    "        # Initialize variables for part indexing\n",
    "        part_index = 0\n",
    "        frame_index = 0\n",
    "\n",
    "        # Read frames and create parts\n",
    "        while frame_index < params.nframes:\n",
    "            # Set the output part file name\n",
    "            output_file = os.path.join(output_folder, f\"part_{part_index}.wav\")\n",
    "\n",
    "            # Open the output part WAV file\n",
    "            with wave.open(output_file, 'wb') as output_wav:\n",
    "                # Set the parameters of the output part WAV file\n",
    "                output_wav.setparams(params)\n",
    "\n",
    "                # Calculate the number of frames to read for this part\n",
    "                frames_to_read = min(frames_per_part, params.nframes - frame_index)\n",
    "\n",
    "                # Read frames from the input WAV file\n",
    "                frames = wav_file.readframes(frames_to_read)\n",
    "\n",
    "                # Write frames to the output part WAV file\n",
    "                output_wav.writeframes(frames)\n",
    "\n",
    "            # Increment the part index and frame index\n",
    "            part_index += 1\n",
    "            frame_index += frames_to_read\n",
    "\n",
    "        print(f\"Split into {part_index} parts.\")"
   ]
  },
  {
   "cell_type": "code",
   "execution_count": 10,
   "id": "fadce185",
   "metadata": {},
   "outputs": [
    {
     "name": "stdout",
     "output_type": "stream",
     "text": [
      "Split into 1 parts.\n"
     ]
    }
   ],
   "source": [
    "# Usage example\n",
    "input_file = 'output.wav'\n",
    "output_folder = os.path.splitext(input_file)[0]  # Use the same name as the input file\n",
    "split_wav(input_file, output_folder, 50)"
   ]
  }
 ],
 "metadata": {
  "kernelspec": {
   "display_name": "Python 3 (ipykernel)",
   "language": "python",
   "name": "python3"
  },
  "language_info": {
   "codemirror_mode": {
    "name": "ipython",
    "version": 3
   },
   "file_extension": ".py",
   "mimetype": "text/x-python",
   "name": "python",
   "nbconvert_exporter": "python",
   "pygments_lexer": "ipython3",
   "version": "3.11.4"
  }
 },
 "nbformat": 4,
 "nbformat_minor": 5
}
